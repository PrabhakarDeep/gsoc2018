{
 "cells": [
  {
   "cell_type": "code",
   "execution_count": 1,
   "metadata": {},
   "outputs": [],
   "source": [
    "import grasp"
   ]
  },
  {
   "cell_type": "code",
   "execution_count": 9,
   "metadata": {},
   "outputs": [],
   "source": [
    "import ssl\n",
    "\n",
    "ssl._create_default_https_context = ssl._create_unverified_context"
   ]
  },
  {
   "cell_type": "code",
   "execution_count": 5,
   "metadata": {},
   "outputs": [],
   "source": [
    "from grasp.grasp import Twitter"
   ]
  },
  {
   "cell_type": "code",
   "execution_count": 6,
   "metadata": {},
   "outputs": [],
   "source": [
    "twitter = Twitter()"
   ]
  },
  {
   "cell_type": "code",
   "execution_count": 19,
   "metadata": {},
   "outputs": [
    {
     "name": "stdout",
     "output_type": "stream",
     "text": [
      "Tweet(id='997112207577112578', text='@chrisha66250907 @dmartosko And Schumer knew what Trump meant', date='Thu May 17 13:50:50 +0000 2018', language='en', author='wbishop6019', photo='http://pbs.twimg.com/profile_images/981867862993395712/GOwNRp9m_normal.jpg', likes=0) \n",
      "\n",
      "\n",
      "Tweet(id='997112206985777152', text='Vicente Fox issued a sharp rejoinder to Trump. https://t.co/auIo9ZQLDW', date='Thu May 17 13:50:50 +0000 2018', language='en', author='HuffPostPol', photo='http://pbs.twimg.com/profile_images/875370822260719617/vPxbJicr_normal.jpg', likes=0) \n",
      "\n",
      "\n",
      "Tweet(id='997112206767501312', text=\"@HollyLouiseRN @FoxNews oh yeah for sure.  Its 100% true.  The best part is when you remove one from the herd and talk to them they open their eyes and see the light.  My bleeding heart liberal GF now wants and AR15 and voted for Trump.  She heard the facts and wasn't afraid of them\", date='Thu May 17 13:50:50 +0000 2018', language='en', author='rubberducky2784', photo='http://pbs.twimg.com/profile_images/378800000675567768/5f066c63f9dfd4f627dc1668e8505b2a_normal.jpeg', likes=0) \n",
      "\n",
      "\n",
      "Tweet(id='997112205232533504', text='‘Bigger Than Watergate’ – Trump Thinks Obama’s FBI Spied On His Campaign https://t.co/Vmp5uS4jqy via @dailycaller', date='Thu May 17 13:50:49 +0000 2018', language='en', author='allen12291958', photo='http://pbs.twimg.com/profile_images/900029153117908993/gRpVkCU7_normal.jpg', likes=0) \n",
      "\n",
      "\n",
      "Tweet(id='997112205207195648', text='@paul_lander New Bumper Sticker. \"Honk if you haven\\'t signed an NDA with Trump.\"', date='Thu May 17 13:50:49 +0000 2018', language='en', author='leftcoastbabe', photo='http://pbs.twimg.com/profile_images/1853548060/mercury_normal.jpg', likes=0) \n",
      "\n",
      "\n",
      "Tweet(id='997112204573868032', text='@The_Trump_Train @realDonaldTrump Breaking news: Trump IS the swamp... Exclusively reported pretty much everywhere EXCEPT Fox News....', date='Thu May 17 13:50:49 +0000 2018', language='en', author='andrewkle', photo='http://pbs.twimg.com/profile_images/902136400656588800/rMvaFcUs_normal.jpg', likes=0) \n",
      "\n",
      "\n",
      "Tweet(id='997112203672150016', text='Trump Calls Some Unauthorized Immigrants ‘Animals’ in Rant https://t.co/S4nauaLgyA\\nIf they are MS-13 they are animals and should not be allowed into our country!', date='Thu May 17 13:50:49 +0000 2018', language='en', author='JoeButl07597418', photo='http://abs.twimg.com/sticky/default_profile_images/default_profile_normal.png', likes=0) \n",
      "\n",
      "\n",
      "Tweet(id='997112203286212608', text='@thehill They did...remember when trump and members of his campaign staff said that emails from themckintin campaign would be released...and the they were, through Wikileaks (an arm of the Russian IC) and obtained by a Russian hacker', date='Thu May 17 13:50:49 +0000 2018', language='en', author='trashytrashrat', photo='http://pbs.twimg.com/profile_images/823271035562696704/O8FH8M9n_normal.jpg', likes=0) \n",
      "\n",
      "\n",
      "Tweet(id='997112201810006021', text='Global experts highlighted issues like WHO’s funding constraints and the Trump admin’s proposed cuts to global health initiatives, which could inhibit the ability to adequately respond to global health crises: https://t.co/JAzOKCfkag https://t.co/HRyY8upldX', date='Thu May 17 13:50:49 +0000 2018', language='en', author='CFR_IIGG', photo='http://pbs.twimg.com/profile_images/568488771901857792/et9I-Hgr_normal.jpeg', likes=0) \n",
      "\n",
      "\n",
      "Tweet(id='997112201457565697', text=\"@goldengateblond Trump, who ran against Hillary, is trying to sell the idea that it's wrong to try to find dirt on your opponent. Irony is dead.\", date='Thu May 17 13:50:48 +0000 2018', language='en', author='dkxkee', photo='http://pbs.twimg.com/profile_images/915406082692059136/eUOSNZL1_normal.jpg', likes=0) \n",
      "\n",
      "\n"
     ]
    }
   ],
   "source": [
    "max_num = 10\n",
    "k = 0\n",
    "tweets = []\n",
    "for tweet in twitter.search('Trump'):\n",
    "    if k >= max_num:\n",
    "        break\n",
    "    if tweet.text[:2] != 'RT':\n",
    "        print(tweet, '\\n\\n')\n",
    "        tweets.append(tweet)\n",
    "        k += 1"
   ]
  },
  {
   "cell_type": "code",
   "execution_count": 20,
   "metadata": {},
   "outputs": [
    {
     "name": "stdout",
     "output_type": "stream",
     "text": [
      "61\n",
      "70\n",
      "283\n",
      "113\n",
      "80\n",
      "134\n",
      "161\n",
      "233\n",
      "257\n",
      "144\n"
     ]
    }
   ],
   "source": [
    "for tweet in tweets:\n",
    "    print(len(tweet.text))"
   ]
  },
  {
   "cell_type": "code",
   "execution_count": null,
   "metadata": {},
   "outputs": [],
   "source": []
  },
  {
   "cell_type": "code",
   "execution_count": null,
   "metadata": {},
   "outputs": [],
   "source": []
  },
  {
   "cell_type": "code",
   "execution_count": null,
   "metadata": {},
   "outputs": [],
   "source": []
  }
 ],
 "metadata": {
  "kernelspec": {
   "display_name": "Python 3",
   "language": "python",
   "name": "python3"
  },
  "language_info": {
   "codemirror_mode": {
    "name": "ipython",
    "version": 3
   },
   "file_extension": ".py",
   "mimetype": "text/x-python",
   "name": "python",
   "nbconvert_exporter": "python",
   "pygments_lexer": "ipython3",
   "version": "3.6.2"
  }
 },
 "nbformat": 4,
 "nbformat_minor": 2
}
