{
 "cells": [
  {
   "cell_type": "code",
   "execution_count": 143,
   "metadata": {},
   "outputs": [
    {
     "name": "stdout",
     "output_type": "stream",
     "text": [
      "WIN\n",
      "WIN\n"
     ]
    }
   ],
   "source": [
    "from pattern.web import Twitter\n",
    "from pattern.en import tag\n",
    "from pattern.vector import KNN, count\n",
    "\n",
    "twitter, knn = Twitter(), KNN()\n",
    "\n",
    "for i in range(1, 3):\n",
    "    for tweet in twitter.search('#win OR #fail', start=i, count=100):\n",
    "        s = tweet.text.lower()\n",
    "        p = '#win' in s and 'WIN' or 'FAIL'\n",
    "        v = tag(s)\n",
    "        v = [word for word, pos in v if pos == 'JJ'] # JJ = adjective\n",
    "        v = count(v) # {'sweet': 1}\n",
    "        if v:\n",
    "            knn.train(v, type=p)\n",
    "\n",
    "print(knn.classify('sweet potato burger'))\n",
    "print(knn.classify('stupid autocorrect'))"
   ]
  },
  {
   "cell_type": "code",
   "execution_count": 144,
   "metadata": {},
   "outputs": [],
   "source": [
    "?tag"
   ]
  },
  {
   "cell_type": "code",
   "execution_count": null,
   "metadata": {},
   "outputs": [],
   "source": []
  },
  {
   "cell_type": "code",
   "execution_count": 145,
   "metadata": {},
   "outputs": [],
   "source": [
    "from pattern.web import Twitter, plaintext"
   ]
  },
  {
   "cell_type": "code",
   "execution_count": 146,
   "metadata": {},
   "outputs": [],
   "source": [
    "twitter = Twitter(language='en')"
   ]
  },
  {
   "cell_type": "code",
   "execution_count": 147,
   "metadata": {},
   "outputs": [
    {
     "name": "stdout",
     "output_type": "stream",
     "text": [
      "#Education is NOT the Most important thing! What you #Do is MORE important than education. #TakeAction #Persist\n",
      "RT @JillFilipovic: Feminists have been calling for universal child care for a very long time. It's the men in charge who have decided… https://t.co/x2cwJjsaFF\n",
      "@TIME I wouldn't doubt it, but probably wasn't some nefarious plant. People in political spheres like to pretend th… https://t.co/dkPsGAtaRG\n",
      "@ruq18x Wait you're joking right??? Then again I'm not surprised, since cows are seen to be more important than women 😳😭\n",
      "@Danny_McMoomins It's just a game, no more important than snakes and ladders.\n",
      "RT @JoshMatlow: Toronto must take road safety seriously. Along with more reasonable speed limits, I’d like to see a genuine investm… https://t.co/ZlruSKxi2V\n",
      "RT @michaelianblack: There are so many important questions around the Trump presidency, but none more important than how is this fucking shitbag still President?\n",
      "@usask @UsaskPresOffice @HuskieAthletics is this the legacy that Huskie athletes have to look forward to? What does… https://t.co/N7ZmI0jKPJ\n",
      "RT @RattlerGator: I saw a BBC interview with Tyler Perry. He said he was neither Democrat nor Republican but . . . a \"free thinker\" w… https://t.co/rU1fJGSAHT\n",
      "RT @Suyash75: Today's elections might be more important than day before yesterday for 2018/19.\n",
      "If BJP manages to breach 20% and m… https://t.co/PZkaczvniA\n"
     ]
    }
   ],
   "source": [
    "for tweet in twitter.search('\"more important than\"', cached=False):\n",
    "    print plaintext(tweet.text)"
   ]
  },
  {
   "cell_type": "code",
   "execution_count": null,
   "metadata": {},
   "outputs": [],
   "source": []
  },
  {
   "cell_type": "code",
   "execution_count": 148,
   "metadata": {},
   "outputs": [],
   "source": [
    "from pattern.en import parse"
   ]
  },
  {
   "cell_type": "code",
   "execution_count": 149,
   "metadata": {},
   "outputs": [
    {
     "name": "stdout",
     "output_type": "stream",
     "text": [
      "The/DT/B-NP/O/NP-SBJ-1/the mobile/JJ/I-NP/O/NP-SBJ-1/mobile web/NN/I-NP/O/NP-SBJ-1/web is/VBZ/B-VP/O/VP-1/be more/RBR/B-ADJP/O/O/more important/JJ/I-ADJP/O/O/important than/IN/B-PP/O/O/than mobile/JJ/B-ADJP/O/O/mobile apps/DT/O/O/O/apps ././O/O/O/.\n"
     ]
    }
   ],
   "source": [
    "s = 'The mobile web is more important than mobile apps.'\n",
    "s = parse(s, relations=True, lemmata=True)\n",
    "print(s)"
   ]
  },
  {
   "cell_type": "code",
   "execution_count": null,
   "metadata": {},
   "outputs": [],
   "source": []
  },
  {
   "cell_type": "code",
   "execution_count": 150,
   "metadata": {},
   "outputs": [
    {
     "name": "stdout",
     "output_type": "stream",
     "text": [
      "busy...\n",
      "busy...\n",
      "busy...\n",
      "None\n"
     ]
    }
   ],
   "source": [
    "from pattern.web import asynchronous, time, Google\n",
    " \n",
    "request = asynchronous(Google().search, 'holy grail', timeout=4)\n",
    "while not request.done:\n",
    "    time.sleep(0.1)\n",
    "    print 'busy...'\n",
    "print request.value"
   ]
  },
  {
   "cell_type": "code",
   "execution_count": 151,
   "metadata": {},
   "outputs": [],
   "source": [
    "request.value"
   ]
  },
  {
   "cell_type": "code",
   "execution_count": 152,
   "metadata": {},
   "outputs": [
    {
     "name": "stdout",
     "output_type": "stream",
     "text": [
      "/Users/maksim/GSoC\r\n"
     ]
    }
   ],
   "source": [
    "!pwd"
   ]
  },
  {
   "cell_type": "code",
   "execution_count": 153,
   "metadata": {},
   "outputs": [
    {
     "name": "stdout",
     "output_type": "stream",
     "text": [
      "RT @hanjosi: Doing another follower ART GIVEAWAY! Ending it after exams.\n",
      "✨ RT + Must be following me to win a chance to get a ha… https://t.co/8SbQMeN7ak\n",
      "\n",
      "997125864348405761\n",
      "@ello_aaye Preciate it fam. Felt like I took a lot of Ls for this Win 😎 https://t.co/agAdEFXZwO\n",
      "\n",
      "997125864017027072\n",
      "RT @BTSGlobalNoona: ARMYs, do you remember the #BestFanPower poll we won? Well, thanks to @FansTime_IFS our AD for BTS will finally go… https://t.co/g8b7NaLA0t\n",
      "\n",
      "997125863534727168\n",
      "RT @FayyanFreaks: Mat sabu dah ada Insta Kahkahkah , caption dia biar win lagi 😂, jenis menteri sempoi camnielah yang kita mahukan ha… https://t.co/Wy1RbRMAwt\n",
      "\n",
      "997125863022907392\n",
      "RT @bangtanlips7: Ellen : why's the title called fake love?\n",
      "\n",
      "JH : *looks at yoongi &amp;Jimin* because people cheat\n",
      "\n",
      "Ellen : did you win… https://t.co/v4TPodcmJR\n",
      "\n",
      "997125862355972097\n",
      "I entered the @debtcom 5th Anniversary #Giveaway for a chance to #win $1,000!  #Debt5 #prizes #sweeps #sweepstakes https://t.co/0VvWExGug6\n",
      "\n",
      "997125862255312897\n",
      "RT @THYrugby: RT to win two tickets to @leinsterrugby v @Munsterrugby in the @PRO14Official semi-final on Saturday in the RDS.\n",
      "\n",
      "W… https://t.co/eEu1Hzox6u\n",
      "\n",
      "997125862251204608\n",
      "Want to meet @JoshGroban + @SaraBareilles at @TheTonyAwards? Enter to win and help benefit @BroadwayLeague Foundati… https://t.co/lAADeVHf3o\n",
      "\n",
      "997125862049841153\n",
      "@asm1h 勝敗の結果は･･動画を見て確認！\n",
      "\n",
      "◆WIN\n",
      "豪華特典の抽選権を獲得\n",
      "当選者には後日DMでご連絡！\n",
      "\n",
      "◆LOSE\n",
      "他のキャラでもう一度挑戦しよう！\n",
      "↓\n",
      "https://t.co/6ys8qYRusJ\n",
      "https://t.co/BgJNM6G5U5\n",
      "\n",
      "997125861953257472\n",
      "RT @OriginalFunko: RT &amp; follow @OriginalFunko for the chance to win a Val Pop! #SoloMovie https://t.co/NQwjHQaDQr\n",
      "\n",
      "997125861706002433\n",
      "RT @Rustypot: 1 hour Radioactive Armored Door giveaway!🎁\n",
      "\n",
      "How to WIN:\n",
      "🙏🏼Follow US\n",
      "🔁RT\n",
      "💕Like\n",
      "🔀Reply with the \"🚪\" emoji (door) and… https://t.co/3EaPvInEiX\n",
      "\n",
      "997125861605347329\n",
      "RT @Anirudh_Astro: #Yeddyurappa government will now last 5 years. As per my calculation he will win the plea filed in supreme and cour… https://t.co/HBY54Klf9e\n",
      "\n",
      "997125861282271232\n",
      "RT @OriginalFunko: RT &amp; follow @OriginalFunko for the chance to win a @BoxLunchGifts exclusive FLOCKED Chewbacca Pop! #Chewbacca https://t.co/T4QLpJgaVQ\n",
      "\n",
      "997125861043154944\n",
      "RT @WeFix_UK: In celebration of our partnership with #Samsung, we're giving away a shiny new Galaxy S9! Simply follow us and RT t… https://t.co/yG7IhnCeNz\n",
      "\n",
      "997125860955058176\n",
      "RT @chim_eonni: どの生き物よりも可愛いと思う。\n",
      "世界一かわいい人だし\n",
      "世界一愛らしい人だよ\n",
      "死ぬほどすきで苦しい。\n",
      "本当に。。\n",
      "\n",
      "#IVoteBTSBBMAs  @BTS_twt https://t.co/YIL1BsXOro\n",
      "\n",
      "997125859986173953\n",
      "RT @bangtanlips7: Ellen : why's the title called fake love?\n",
      "\n",
      "JH : *looks at yoongi &amp;Jimin* because people cheat\n",
      "\n",
      "Ellen : did you win… https://t.co/v4TPodcmJR\n",
      "\n",
      "997125859860459520\n",
      "We’re inviting you to enter our latest competition where you could win a stay at one of our hotels. All you have to… https://t.co/jobUk8n0If\n",
      "\n",
      "997125859482963968\n",
      "RT @davidharsanyi: NRA = terrorists\n",
      "GOP voters = racists \n",
      "Ms-13 = immigrants \n",
      "Hamas = innocent demonstrators.\n",
      "\n",
      "How on earth do people… https://t.co/OJSZZvH8eB\n",
      "\n",
      "997125858677678080\n",
      "RT @OriginalFunko: RT &amp; follow @OriginalFunko for the chance to win a @BNBuzz exclusive Wizard Deadpool Pop! https://t.co/vYLLY4eKlg\n",
      "\n",
      "997125858191032320\n",
      "RT @Edidion2012: @PopCrave @xtina @ddlovato I love seeing talent win\n",
      "\n",
      "997125857457000448\n",
      "RT @OriginalFunko: RT &amp; follow @OriginalFunko for the chance to win a @BoxLunchGifts exclusive FLOCKED Chewbacca Pop! #Chewbacca https://t.co/T4QLpJgaVQ\n",
      "\n",
      "997125857360662528\n",
      "@JerryZremski Remember Pete Domenici was a champion for funding at a time when it was hard to win $$. He too had pe… https://t.co/dyEBYglKYV\n",
      "\n",
      "997125857075490818\n",
      "RT @mochiminniee: AN RT WON'T HURT BUT IT'LL HELP OUR BOYS TO WIN!\n",
      "\n",
      "SINIGANG PH\n",
      "#PremiosMTVMiaw #MTVLAFANARMYBTS  #MTVLAKPOPBTS \n",
      "#MTVBRKPOPBTS\n",
      "@BTS_twt\n",
      "\n",
      "997125856639275008\n",
      "@nextofficial #shoeoftheweek #win\n",
      "\n",
      "997125856488312832\n",
      "RT @GaryLineker: Easy win for Atletico. Spanish teams have won 12 of the last 18 European finals. Hard to argue against La Liga bein… https://t.co/dLLIN5nso2\n",
      "\n",
      "997125855540334600\n",
      "RT @JDBvotin: The only way we can get votes is by doing these challenges, please participate  if you want Justin to win \n",
      "\n",
      "#IVoteJustinBBMAs\n",
      "\n",
      "997125855506812928\n",
      "RT @realDonaldTrump: Congratulations America, we are now into the second year of the greatest Witch Hunt in American History...and there… https://t.co/YOAAfBRwLu\n",
      "\n",
      "997125855456329729\n",
      "RT @mohitfreedom: #KXIPvRCB #RCBvKXIP Who is going to win #Punjab RT #Bangalore Like\n",
      "\n",
      "997125855431348225\n",
      "This Saturday is our Stern Army pinball tournament. 6.00 to join and have fun. Meet new players and win prizes. The… https://t.co/qdG0vrnGMl\n",
      "\n",
      "997125854147829760\n",
      "RT @247equestrian: RT &amp; follow @myspanishboots for a chance to #win a fabulous pair of Cordonera Boots worth £355! #247equestrian &gt;&gt;… https://t.co/YVcnMzxs3m\n",
      "\n",
      "997125854143680512\n"
     ]
    }
   ],
   "source": [
    "from pattern.web import Twitter\n",
    "\n",
    "t = Twitter()\n",
    "i = None\n",
    "for j in range(3):\n",
    "    for tweet in t.search('win', start=i, count=10):\n",
    "        print tweet.text\n",
    "        print        \n",
    "        i = tweet.id\n",
    "        print i"
   ]
  },
  {
   "cell_type": "code",
   "execution_count": null,
   "metadata": {},
   "outputs": [],
   "source": []
  },
  {
   "cell_type": "code",
   "execution_count": 156,
   "metadata": {},
   "outputs": [],
   "source": [
    "from pattern.web import Twitter\n",
    "import time"
   ]
  },
  {
   "cell_type": "code",
   "execution_count": 157,
   "metadata": {},
   "outputs": [
    {
     "name": "stdout",
     "output_type": "stream",
     "text": [
      "\n"
     ]
    }
   ],
   "source": [
    "start = time.time()\n",
    "secs = 100\n",
    "s = Twitter(throttle=0.5).stream('#fail')\n",
    "for i in range(10):\n",
    "    time.sleep(1) \n",
    "    s.update(bytes=1024)    \n",
    "    print(s[-1].text if s else '')\n",
    "    if time.time() - start > secs:\n",
    "        break"
   ]
  },
  {
   "cell_type": "code",
   "execution_count": null,
   "metadata": {},
   "outputs": [],
   "source": []
  },
  {
   "cell_type": "code",
   "execution_count": null,
   "metadata": {},
   "outputs": [],
   "source": []
  },
  {
   "cell_type": "code",
   "execution_count": null,
   "metadata": {},
   "outputs": [],
   "source": []
  }
 ],
 "metadata": {
  "kernelspec": {
   "display_name": "Python 2",
   "language": "python",
   "name": "python2"
  },
  "language_info": {
   "codemirror_mode": {
    "name": "ipython",
    "version": 2
   },
   "file_extension": ".py",
   "mimetype": "text/x-python",
   "name": "python",
   "nbconvert_exporter": "python",
   "pygments_lexer": "ipython2",
   "version": "2.7.9"
  }
 },
 "nbformat": 4,
 "nbformat_minor": 2
}
